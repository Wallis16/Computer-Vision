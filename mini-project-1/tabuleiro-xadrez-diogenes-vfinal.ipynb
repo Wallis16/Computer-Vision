{
 "cells": [
  {
   "cell_type": "code",
   "execution_count": 3,
   "metadata": {},
   "outputs": [],
   "source": [
    "%matplotlib inline\n",
    "import cv2\n",
    "import numpy as np\n",
    "from matplotlib import pyplot as plt\n",
    "import time\n",
    "\n",
    "cap = cv2.VideoCapture(0)\n",
    "\n",
    "# Check if the webcam is opened correctly\n",
    "if not cap.isOpened():\n",
    "    raise IOError(\"Cannot open webcam\")\n",
    "    \n",
    "vis = np.zeros((630,630,3),np.uint8)\n",
    "#img = np.zeros((630,630,3),np.uint8)\n",
    "\n",
    "w = np.zeros((70,70,3),np.uint8)\n",
    "w.fill(255)\n",
    "    \n",
    "for i in range(9):\n",
    "    k = 5 - i%2\n",
    "    for j in range(k):\n",
    "        vis[70*i:70+70*i, (140*j+70*(i%2)):(140*j+70*(i%2) + 70)] = w\n",
    "    \n",
    "i = 0\n",
    "j = 0\n",
    "while True:\n",
    "    \n",
    "    ret, frame = cap.read()\n",
    "    frame = cv2.resize(frame, None, fx=0.109375, fy=0.14583, interpolation=cv2.INTER_AREA)\n",
    "    \n",
    "    vis[70*i:70+70*i, (140*j+70*(i%2)):(140*j+70*(i%2) + 70)] = frame \n",
    "    \n",
    "    j = j + 1\n",
    "    if j == (5 - i%2):\n",
    "        i = i + 1\n",
    "        j = 0\n",
    "    i=i%9\n",
    "    \n",
    "    cv2.imshow(\"z\",vis)\n",
    "    if cv2.waitKey(1) & 0xFF == 27:\n",
    "        break\n",
    "    \n",
    "cap.release()\n",
    "cv2.destroyAllWindows()"
   ]
  },
  {
   "cell_type": "code",
   "execution_count": null,
   "metadata": {},
   "outputs": [],
   "source": []
  }
 ],
 "metadata": {
  "kernelspec": {
   "display_name": "Python 3",
   "language": "python",
   "name": "python3"
  },
  "language_info": {
   "codemirror_mode": {
    "name": "ipython",
    "version": 3
   },
   "file_extension": ".py",
   "mimetype": "text/x-python",
   "name": "python",
   "nbconvert_exporter": "python",
   "pygments_lexer": "ipython3",
   "version": "3.5.2"
  }
 },
 "nbformat": 4,
 "nbformat_minor": 2
}
